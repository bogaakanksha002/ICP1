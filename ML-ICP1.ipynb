{
 "cells": [
  {
   "cell_type": "code",
   "execution_count": 2,
   "id": "cbc5213d-4df5-4fc4-b2cd-97d631ef498b",
   "metadata": {},
   "outputs": [
    {
     "name": "stdout",
     "output_type": "stream",
     "text": [
      "Sorted ages: [19, 19, 20, 22, 24, 24, 24, 25, 25, 26]\n",
      "Min age: 19\n",
      "Max age: 26\n",
      "Ages after adding min and max again: [19, 19, 20, 22, 24, 24, 24, 25, 25, 26, 19, 26]\n",
      "Median age: 24.0\n",
      "Average age: 22.75\n",
      "Age range: 7\n"
     ]
    }
   ],
   "source": [
    "# Given list of ages\n",
    "ages = [19, 22, 19, 24, 20, 25, 26, 24, 25, 24]\n",
    "\n",
    "# Sort the list\n",
    "ages.sort()\n",
    "print(\"Sorted ages:\", ages)\n",
    "\n",
    "# Find the min and max age\n",
    "min_age = ages[0]\n",
    "max_age = ages[-1]\n",
    "print(\"Min age:\", min_age)\n",
    "print(\"Max age:\", max_age)\n",
    "\n",
    "# Add the min age and the max age again to the list\n",
    "ages.append(min_age)\n",
    "ages.append(max_age)\n",
    "print(\"Ages after adding min and max again:\", ages)\n",
    "\n",
    "# Find the median age\n",
    "ages.sort()  # Ensure the list is sorted after additions\n",
    "length = len(ages)\n",
    "if length % 2 == 0:\n",
    "    median = (ages[length // 2 - 1] + ages[length // 2]) / 2\n",
    "else:\n",
    "    median = ages[length // 2]\n",
    "print(\"Median age:\", median)\n",
    "\n",
    "# Find the average age\n",
    "average = sum(ages) / length\n",
    "print(\"Average age:\", average)\n",
    "\n",
    "# Find the range of the ages\n",
    "age_range = max_age - min_age\n",
    "print(\"Age range:\", age_range)"
   ]
  },
  {
   "cell_type": "code",
   "execution_count": 3,
   "id": "e87c19b8-002a-4e49-b675-bed1d1c75cf7",
   "metadata": {},
   "outputs": [
    {
     "name": "stdout",
     "output_type": "stream",
     "text": [
      "Dog dictionary: {'name': 'Buddy', 'color': 'Brown', 'breed': 'Labrador', 'legs': 4, 'age': 5}\n",
      "Student dictionary: {'first_name': 'John', 'last_name': 'Doe', 'gender': 'Male', 'age': 22, 'marital_status': 'Single', 'skills': ['Python', 'Java'], 'country': 'USA', 'city': 'New York', 'address': '123 Main St'}\n",
      "Length of student dictionary: 9\n",
      "Skills: ['Python', 'Java']\n",
      "Data type of skills: <class 'list'>\n",
      "Modified skills: ['Python', 'Java', 'C++', 'SQL']\n",
      "Student dictionary keys: ['first_name', 'last_name', 'gender', 'age', 'marital_status', 'skills', 'country', 'city', 'address']\n",
      "Student dictionary values: ['John', 'Doe', 'Male', 22, 'Single', ['Python', 'Java', 'C++', 'SQL'], 'USA', 'New York', '123 Main St']\n"
     ]
    }
   ],
   "source": [
    "# Create an empty dictionary called dog\n",
    "dog = {}\n",
    "\n",
    "# Add name, color, breed, legs, age to the dog dictionary\n",
    "dog['name'] = 'Buddy'\n",
    "dog['color'] = 'Brown'\n",
    "dog['breed'] = 'Labrador'\n",
    "dog['legs'] = 4\n",
    "dog['age'] = 5\n",
    "print(\"Dog dictionary:\", dog)\n",
    "\n",
    "# Create a student dictionary and add first_name, last_name, gender, age, marital status,\n",
    "# skills, country, city and address as keys for the dictionary\n",
    "student = {\n",
    "    'first_name': 'John',\n",
    "    'last_name': 'Doe',\n",
    "    'gender': 'Male',\n",
    "    'age': 22,\n",
    "    'marital_status': 'Single',\n",
    "    'skills': ['Python', 'Java'],\n",
    "    'country': 'USA',\n",
    "    'city': 'New York',\n",
    "    'address': '123 Main St'\n",
    "}\n",
    "print(\"Student dictionary:\", student)\n",
    "\n",
    "# Get the length of the student dictionary\n",
    "student_length = len(student)\n",
    "print(\"Length of student dictionary:\", student_length)\n",
    "\n",
    "# Get the value of skills and check the data type, it should be a list\n",
    "skills = student['skills']\n",
    "print(\"Skills:\", skills)\n",
    "print(\"Data type of skills:\", type(skills))\n",
    "\n",
    "# Modify the skills values by adding one or two skills\n",
    "student['skills'].extend(['C++', 'SQL'])\n",
    "print(\"Modified skills:\", student['skills'])\n",
    "\n",
    "# Get the dictionary keys as a list\n",
    "student_keys = list(student.keys())\n",
    "print(\"Student dictionary keys:\", student_keys)\n",
    "\n",
    "# Get the dictionary values as a list\n",
    "student_values = list(student.values())\n",
    "print(\"Student dictionary values:\", student_values)\n"
   ]
  },
  {
   "cell_type": "code",
   "execution_count": 4,
   "id": "429de26a-88cb-44d0-80fd-2b9eadfcd84c",
   "metadata": {},
   "outputs": [
    {
     "name": "stdout",
     "output_type": "stream",
     "text": [
      "Siblings: ('Anna', 'Beth', 'John', 'Mike')\n",
      "Number of siblings: 4\n",
      "Family members: ('Anna', 'Beth', 'John', 'Mike', 'Father', 'Mother')\n"
     ]
    }
   ],
   "source": [
    "# Create a tuple containing names of your sisters and your brothers (imaginary siblings are fine)\n",
    "sisters = (\"Anna\", \"Beth\")\n",
    "brothers = (\"John\", \"Mike\")\n",
    "\n",
    "# Join brothers and sisters tuples and assign it to siblings\n",
    "siblings = sisters + brothers\n",
    "print(\"Siblings:\", siblings)\n",
    "\n",
    "# How many siblings do you have?\n",
    "num_siblings = len(siblings)\n",
    "print(\"Number of siblings:\", num_siblings)\n",
    "\n",
    "# Modify the siblings tuple and add the name of your father and mother and assign it to family_members\n",
    "# Note: Tuples are immutable, so we cannot modify them directly. Instead, we create a new tuple.\n",
    "family_members = siblings + (\"Father\", \"Mother\")\n",
    "print(\"Family members:\", family_members)\n"
   ]
  },
  {
   "cell_type": "code",
   "execution_count": 5,
   "id": "bcf0aca1-4200-4a02-9009-400d9e4b28eb",
   "metadata": {},
   "outputs": [
    {
     "name": "stdout",
     "output_type": "stream",
     "text": [
      "Length of it_companies: 7\n",
      "it_companies after adding Twitter: {'Google', 'Microsoft', 'Facebook', 'Oracle', 'Apple', 'Twitter', 'Amazon', 'IBM'}\n",
      "it_companies after adding multiple companies: {'Google', 'Adobe', 'Facebook', 'Apple', 'Twitter', 'Netflix', 'Amazon', 'Tesla', 'Oracle', 'Microsoft', 'IBM'}\n",
      "it_companies after removing Oracle: {'Google', 'Adobe', 'Facebook', 'Apple', 'Twitter', 'Netflix', 'Amazon', 'Tesla', 'Microsoft', 'IBM'}\n",
      "A union B: {19, 20, 22, 24, 25, 26, 27, 28}\n",
      "A intersection B: {19, 20, 22, 24, 25, 26}\n",
      "Is A subset of B: True\n",
      "Are A and B disjoint sets: False\n",
      "A union B: {19, 20, 22, 24, 25, 26, 27, 28}\n",
      "B union A: {19, 20, 22, 24, 25, 26, 27, 28}\n",
      "Symmetric difference between A and B: {27, 28}\n",
      "Length of age list: 8\n",
      "Length of age set: 5\n"
     ]
    }
   ],
   "source": [
    "# Given data\n",
    "it_companies = {'Facebook', 'Google', 'Microsoft', 'Apple', 'IBM', 'Oracle', 'Amazon'}\n",
    "A = {19, 22, 24, 20, 25, 26}\n",
    "B = {19, 22, 20, 25, 26, 24, 28, 27}\n",
    "age = [22, 19, 24, 25, 26, 24, 25, 24]\n",
    "\n",
    "# Find the length of the set it_companies\n",
    "length_it_companies = len(it_companies)\n",
    "print(\"Length of it_companies:\", length_it_companies)\n",
    "\n",
    "# Add 'Twitter' to it_companies\n",
    "it_companies.add('Twitter')\n",
    "print(\"it_companies after adding Twitter:\", it_companies)\n",
    "\n",
    "# Insert multiple IT companies at once to the set it_companies\n",
    "it_companies.update({'Netflix', 'Tesla', 'Adobe'})\n",
    "print(\"it_companies after adding multiple companies:\", it_companies)\n",
    "\n",
    "# Remove one of the companies from the set it_companies\n",
    "it_companies.remove('Oracle')  # Remove 'Oracle' as an example\n",
    "print(\"it_companies after removing Oracle:\", it_companies)\n",
    "\n",
    "# Difference between remove and discard:\n",
    "# - remove: Raises a KeyError if the item is not found.\n",
    "# - discard: Does not raise an error if the item is not found.\n",
    "\n",
    "# Join A and B\n",
    "A_union_B = A.union(B)\n",
    "print(\"A union B:\", A_union_B)\n",
    "\n",
    "# Find A intersection B\n",
    "A_intersection_B = A.intersection(B)\n",
    "print(\"A intersection B:\", A_intersection_B)\n",
    "\n",
    "# Is A subset of B\n",
    "A_subset_B = A.issubset(B)\n",
    "print(\"Is A subset of B:\", A_subset_B)\n",
    "\n",
    "# Are A and B disjoint sets\n",
    "A_disjoint_B = A.isdisjoint(B)\n",
    "print(\"Are A and B disjoint sets:\", A_disjoint_B)\n",
    "\n",
    "# Join A with B and B with A\n",
    "A_union_B = A.union(B)\n",
    "B_union_A = B.union(A)\n",
    "print(\"A union B:\", A_union_B)\n",
    "print(\"B union A:\", B_union_A)\n",
    "\n",
    "# What is the symmetric difference between A and B\n",
    "A_symmetric_difference_B = A.symmetric_difference(B)\n",
    "print(\"Symmetric difference between A and B:\", A_symmetric_difference_B)\n",
    "\n",
    "# Delete the sets completely\n",
    "del A\n",
    "del B\n",
    "\n",
    "# Convert the ages list to a set and compare the length of the list and the set\n",
    "age_set = set(age)\n",
    "print(\"Length of age list:\", len(age))\n",
    "print(\"Length of age set:\", len(age_set))\n"
   ]
  },
  {
   "cell_type": "code",
   "execution_count": 6,
   "id": "bdd92517-6e58-4f57-8cd6-ebef6ebbf233",
   "metadata": {},
   "outputs": [
    {
     "name": "stdout",
     "output_type": "stream",
     "text": [
      "Area of the circle with radius 30 meters: 2827.4333882308138\n",
      "Circumference of the circle with radius 30 meters: 188.49555921538757\n"
     ]
    },
    {
     "name": "stdin",
     "output_type": "stream",
     "text": [
      "Enter the radius of the circle:  25\n"
     ]
    },
    {
     "name": "stdout",
     "output_type": "stream",
     "text": [
      "Area of the circle with user-provided radius: 1963.4954084936207\n"
     ]
    }
   ],
   "source": [
    "import math\n",
    "\n",
    "# Given radius\n",
    "radius = 30\n",
    "\n",
    "# Calculate the area of the circle\n",
    "_area_of_circle_ = math.pi * (radius ** 2)\n",
    "print(\"Area of the circle with radius 30 meters:\", _area_of_circle_)\n",
    "\n",
    "# Calculate the circumference of the circle\n",
    "_circum_of_circle_ = 2 * math.pi * radius\n",
    "print(\"Circumference of the circle with radius 30 meters:\", _circum_of_circle_)\n",
    "\n",
    "# Take radius as user input and calculate the area\n",
    "user_radius = float(input(\"Enter the radius of the circle: \"))\n",
    "user_area_of_circle = math.pi * (user_radius ** 2)\n",
    "print(\"Area of the circle with user-provided radius:\", user_area_of_circle)\n"
   ]
  },
  {
   "cell_type": "code",
   "execution_count": 7,
   "id": "c4cd363b-61ca-44c4-9f64-79344a4fe5b8",
   "metadata": {},
   "outputs": [
    {
     "name": "stdout",
     "output_type": "stream",
     "text": [
      "Number of unique words: 10\n"
     ]
    }
   ],
   "source": [
    "# Given sentence\n",
    "sentence = \"I am a teacher and I love to inspire and teach people\"\n",
    "\n",
    "# Split the sentence into words\n",
    "words = sentence.split()\n",
    "\n",
    "# Convert the list of words to a set to get unique words\n",
    "unique_words = set(words)\n",
    "\n",
    "# Find the number of unique words\n",
    "num_unique_words = len(unique_words)\n",
    "print(\"Number of unique words:\", num_unique_words)\n"
   ]
  },
  {
   "cell_type": "code",
   "execution_count": 8,
   "id": "a0ad18af-2ca7-43bc-8193-7da9a36d8609",
   "metadata": {},
   "outputs": [
    {
     "name": "stdout",
     "output_type": "stream",
     "text": [
      "Name\tAge\tCountry\tCity\n",
      "Asabeneh\t250\tFinland\tHelsinki\n"
     ]
    }
   ],
   "source": [
    "# Using tab escape sequence to format the output\n",
    "print(\"Name\\tAge\\tCountry\\tCity\")\n",
    "print(\"Asabeneh\\t250\\tFinland\\tHelsinki\")\n"
   ]
  },
  {
   "cell_type": "code",
   "execution_count": 9,
   "id": "0f267d09-5d81-440d-b2e5-ce7c5302d1f0",
   "metadata": {},
   "outputs": [
    {
     "name": "stdout",
     "output_type": "stream",
     "text": [
      "The area of a circle with radius 10 is 314 meters square.\n"
     ]
    }
   ],
   "source": [
    "# Given values\n",
    "radius = 10\n",
    "area = 3.14 * radius ** 2\n",
    "\n",
    "# Using string formatting to display the message\n",
    "message = f\"The area of a circle with radius {radius} is {int(area)} meters square.\"\n",
    "print(message)\n"
   ]
  },
  {
   "cell_type": "code",
   "execution_count": null,
   "id": "b71e028b-d4fd-4878-a48d-d5c8c6a82d3b",
   "metadata": {},
   "outputs": [],
   "source": [
    "# Conversion factor from pounds to kilograms\n",
    "lbs_to_kg = 0.453592\n",
    "\n",
    "# Read number of students from user\n",
    "N = int(input(\"Enter the number of students: \"))\n",
    "\n",
    "# Initialize an empty list to store weights in lbs\n",
    "weights_lbs = []\n",
    "\n",
    "# Read weights from the user\n",
    "for i in range(N):\n",
    "    weight = float(input(f\"Enter weight of student {i+1} in lbs: \"))\n",
    "    weights_lbs.append(weight)\n",
    "\n",
    "# Convert weights to kilograms\n",
    "weights_kg = [round(weight * lbs_to_kg, 2) for weight in weights_lbs]\n",
    "\n",
    "# Print the results\n",
    "print(\"Weights in lbs:\", weights_lbs)\n",
    "print(\"Weights in kg:\", weights_kg)\n"
   ]
  },
  {
   "cell_type": "code",
   "execution_count": null,
   "id": "b0606d28-d0df-4c16-b580-fac42dfbf892",
   "metadata": {},
   "outputs": [],
   "source": []
  }
 ],
 "metadata": {
  "kernelspec": {
   "display_name": "Python 3 (ipykernel)",
   "language": "python",
   "name": "python3"
  },
  "language_info": {
   "codemirror_mode": {
    "name": "ipython",
    "version": 3
   },
   "file_extension": ".py",
   "mimetype": "text/x-python",
   "name": "python",
   "nbconvert_exporter": "python",
   "pygments_lexer": "ipython3",
   "version": "3.12.3"
  }
 },
 "nbformat": 4,
 "nbformat_minor": 5
}
